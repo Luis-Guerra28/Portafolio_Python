{
  "nbformat": 4,
  "nbformat_minor": 0,
  "metadata": {
    "colab": {
      "name": "Formateador Aritmetico.ipynb",
      "provenance": []
    },
    "kernelspec": {
      "name": "python3",
      "display_name": "Python 3"
    },
    "language_info": {
      "name": "python"
    }
  },
  "cells": [
    {
      "cell_type": "code",
      "metadata": {
        "id": "zPutVB7rG1i_"
      },
      "source": [
        "def arithmetic_arranger(problems, show_result=False):\n",
        "    \"\"\"Función que toma una lista con problemas aritmeticos (solo sumas y restas)\n",
        "    y los devuleve ordenados verticalmente y lado a lado.\n",
        "    \n",
        "    Parametros:\n",
        "        problems -- Lista de problemas aritmeticos .\n",
        "        show_result -- Si se coloca en 'True' devolvera el problema con su\n",
        "        resultado de lo contrario omitira el resultado de este.\n",
        "    \n",
        "    Ejemplo:\n",
        "\n",
        "        arithmetic_arranger(['1 + 1'], ['520 - 650'])\n",
        "\n",
        "        Devuleve: \n",
        "                1        520\n",
        "                + 1    - 650\n",
        "                ---    -----\n",
        "    \"\"\"\n",
        "    #Lista de errores\n",
        "    errors = [\n",
        "    \"Error: Too many problems.\",\n",
        "    \"Error: Operator must be '+' or '-'.\",\n",
        "    \"Error: Numbers must only contain digits.\",\n",
        "    \"Error: Numbers cannot be more than four digits.\"]\n",
        "    \n",
        "    def comprobate_problem(problem):\n",
        "        \"Funcion que detecta si un problema aritmetico cumple los estandares\"\n",
        "        if (len(problem[0]) <= 4) and (len(problem[2]) <= 4):\n",
        "            if problem[1] in '+-':\n",
        "                if problem[0].isdigit() and problem[2].isdigit():\n",
        "                    return True\n",
        "                else: \n",
        "                    return errors[2]\n",
        "            else:\n",
        "                return errors[1]\n",
        "        else:\n",
        "            return errors[3]\n",
        "  \n",
        "  \n",
        "    def fill_with_spaces(string, n):\n",
        "        \"\"\"Funcion que rellena el principio de un string con parentesis\"\"\"\n",
        "        return \" \"*n + string\n",
        "    \n",
        "    #Separamos los problemas en listas con los operandos y el signo \n",
        "    problems = list(map(lambda x: x.split(), problems))\n",
        "\n",
        "    arranged_problems = \"\"\n",
        "    lines = [\"\", \"\", \"\", \"\"]\n",
        "    result = 0\n",
        "  \n",
        "    \n",
        "    if len(problems) <= 5:  #Verificamos que no hayan mas de 5 problemas\n",
        "        for problem in problems:\n",
        "\n",
        "            #Comprobamos que el problema este bien introducido\n",
        "            if comprobate_problem(problem) == True: \n",
        "                \n",
        "                #Calculamos el resultado\n",
        "                if problem[1] == '+':\n",
        "                    result = int(problem[0]) + int(problem[2])\n",
        "                elif problem[1] == '-':\n",
        "                    result = int(problem[0]) - int(problem[2])\n",
        "                \n",
        "                #Rellenamos con espacios el número más pequeño \n",
        "                if len(problem[0]) > len(problem[2]):\n",
        "                    problem[2] = fill_with_spaces(problem[2], len(problem[0]) - len(problem[2])) \n",
        "                elif len(problem[0]) < len(problem[2]):\n",
        "                    problem[0] = fill_with_spaces(problem[0], len(problem[2]) - len(problem[0]))\n",
        "    \n",
        "                problem[0] = fill_with_spaces(problem[0], 2) \n",
        "    \n",
        "                #Rellenamos el resultado con espacios\n",
        "                result_text = fill_with_spaces(str(result), len(problem[0]) - len(str(result)))\n",
        "    \n",
        "                #Añadimos el problema a las lineas de texto\n",
        "                lines[0] += problem[0] + \"    \"\n",
        "                lines[1] += problem[1] + \" \" + problem[2] + \"    \"\n",
        "                lines[2] += \"-\" * len(problem[0]) + \"    \"  \n",
        "                lines[3] += result_text + \"    \"\n",
        "\n",
        "            else: \n",
        "                return comprobate_problem(problem)\n",
        "            \n",
        "        #Verificamos si se quiere o no ver el resultado y añadimos las lineas requeridas\n",
        "        if show_result: \n",
        "            arranged_problems = f\"{lines[0].rstrip()}\\n{lines[1].rstrip()}\\n{lines[2].rstrip()}\\n{lines[3].rstrip()}\" \n",
        "        else:\n",
        "            arranged_problems = f\"{lines[0].rstrip()}\\n{lines[1].rstrip()}\\n{lines[2].rstrip()}\" \n",
        "        \n",
        "\n",
        "        return arranged_problems\n",
        "            \n",
        "    else:\n",
        "      return errors[0]\n"
      ],
      "execution_count": 4,
      "outputs": []
    },
    {
      "cell_type": "code",
      "metadata": {
        "colab": {
          "base_uri": "https://localhost:8080/"
        },
        "id": "VfdJ1kHXQn4q",
        "outputId": "0e03834c-bc9c-420e-ec54-3b6027e799d9"
      },
      "source": [
        "print(arithmetic_arranger(['3801 - 2', '123 + 49']))\n",
        "print(arithmetic_arranger(['1 + 2', '1 - 9380']))\n",
        "print(arithmetic_arranger(['3 + 855', '3801 - 2', '45 + 43', '123 + 49']))\n",
        "print(arithmetic_arranger(['11 + 4', '3801 - 2999', '1 + 2', '123 + 49', '1 - 9380']))\n",
        "print(arithmetic_arranger(['44 + 815', '909 - 2', '45 + 43', '123 + 49', '888 + 40', '653 + 87']))\n",
        "print(arithmetic_arranger(['3 / 855', '3801 - 2', '45 + 43', '123 + 49']))\n",
        "print(arithmetic_arranger(['24 + 85215', '3801 - 2', '45 + 43', '123 + 49']))\n",
        "print(arithmetic_arranger(['98 + 3g5', '3801 - 2', '45 + 43', '123 + 49']))\n",
        "print(arithmetic_arranger(['3 + 855', '988 + 40'], True))\n",
        "print(arithmetic_arranger(['32 - 698', '1 - 3801', '45 + 43', '123 + 49', '988 + 40'], True))"
      ],
      "execution_count": 5,
      "outputs": [
        {
          "output_type": "stream",
          "name": "stdout",
          "text": [
            "  3801      123\n",
            "-    2    +  49\n",
            "------    -----\n",
            "  1         1\n",
            "+ 2    - 9380\n",
            "---    ------\n",
            "    3      3801      45      123\n",
            "+ 855    -    2    + 43    +  49\n",
            "-----    ------    ----    -----\n",
            "  11      3801      1      123         1\n",
            "+  4    - 2999    + 2    +  49    - 9380\n",
            "----    ------    ---    -----    ------\n",
            "Error: Too many problems.\n",
            "Error: Operator must be '+' or '-'.\n",
            "Error: Numbers cannot be more than four digits.\n",
            "Error: Numbers must only contain digits.\n",
            "    3      988\n",
            "+ 855    +  40\n",
            "-----    -----\n",
            "  858     1028\n",
            "   32         1      45      123      988\n",
            "- 698    - 3801    + 43    +  49    +  40\n",
            "-----    ------    ----    -----    -----\n",
            " -666     -3800      88      172     1028\n"
          ]
        }
      ]
    },
    {
      "cell_type": "code",
      "metadata": {
        "id": "qjKwXkNNGnWa"
      },
      "source": [
        ""
      ],
      "execution_count": 5,
      "outputs": []
    }
  ]
}