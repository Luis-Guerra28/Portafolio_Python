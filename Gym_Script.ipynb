{
  "cells": [
    {
      "cell_type": "markdown",
      "metadata": {
        "id": "view-in-github",
        "colab_type": "text"
      },
      "source": [
        "<a href=\"https://colab.research.google.com/github/Luis-Guerra28/Portafolio_Python/blob/main/Gym_Script.ipynb\" target=\"_parent\"><img src=\"https://colab.research.google.com/assets/colab-badge.svg\" alt=\"Open In Colab\"/></a>"
      ]
    },
    {
      "cell_type": "code",
      "execution_count": null,
      "metadata": {
        "id": "0MrgD5Iqkw6V",
        "colab": {
          "base_uri": "https://localhost:8080/"
        },
        "outputId": "020e4522-7daa-4043-f95f-b7fabf271bdd",
        "collapsed": true
      },
      "outputs": [
        {
          "output_type": "stream",
          "name": "stdout",
          "text": [
            "Looking in indexes: https://pypi.org/simple, https://us-python.pkg.dev/colab-wheels/public/simple/\n",
            "Requirement already satisfied: python-docx in /usr/local/lib/python3.7/dist-packages (0.8.11)\n",
            "Requirement already satisfied: lxml>=2.3.2 in /usr/local/lib/python3.7/dist-packages (from python-docx) (4.9.1)\n"
          ]
        }
      ],
      "source": [
        "! pip install python-docx\n",
        "\n",
        "import requests, json\n",
        "import docx\n",
        "from google.colab import files\n",
        "\n",
        "\n",
        "token = 'secret_H5ac9WBz23qFtv1Pl4YedhVAwDO7sK5cyVyjPW9pnKw'\n",
        "databaseId =  \"b4bad88df1c549248eaa4b3b4f043eba\"\n",
        "\n",
        "headers = {\n",
        "    \"Authorization\": \"Bearer \" + token,\n",
        "    \"accept\": \"application/json\",\n",
        "    \"Notion-Version\": \"2022-06-28\",\n",
        "    \"content-type\": \"application/json\"\n",
        "}\n"
      ]
    },
    {
      "cell_type": "code",
      "execution_count": null,
      "metadata": {
        "id": "E3S5cyRguivs"
      },
      "outputs": [],
      "source": [
        "def newPage(properties):\n",
        "    url = \"https://api.notion.com/v1/pages\"\n",
        "\n",
        "    payload = {\n",
        "        \"parent\": {\n",
        "                \"database_id\": databaseId,\n",
        "            },\n",
        "        \"properties\": properties\n",
        "    }\n",
        "    \n",
        "    response = requests.post(url, json=payload, headers=headers)\n",
        "\n",
        "    print(response.text)"
      ]
    },
    {
      "cell_type": "code",
      "source": [
        "def getMuscles():\n",
        "    url = f\"https://api.notion.com/v1/databases/{databaseId}\"\n",
        "    response = requests.get(url, headers=headers)\n",
        "\n",
        "\n",
        "    data = json.loads(response.text)\n",
        "    options = data['properties']['Músculo']['multi_select']['options']\n",
        "    \n",
        "    musculos = list(map(lambda option: option['name'], options))\n",
        "\n",
        "    return musculos"
      ],
      "metadata": {
        "id": "pY7xu1TmYfzv"
      },
      "execution_count": null,
      "outputs": []
    },
    {
      "cell_type": "code",
      "source": [
        "def selectMuscle(ejercicio):\n",
        "    num = 1\n",
        "    muscles = getMuscles()\n",
        "    print(f'''El ejercicio es: {ejercicio}\\nSeleccione un musculo:\n",
        "     ''')\n",
        "    \n",
        "    for muscle in muscles:\n",
        "        print(str(num)+'.', muscle)\n",
        "        num += 1\n",
        "\n",
        "    select = int(input('Opción: '))\n",
        "    print()\n",
        "\n",
        "    return muscles[select - 1]"
      ],
      "metadata": {
        "id": "ErTni1kdXfE2"
      },
      "execution_count": null,
      "outputs": []
    },
    {
      "cell_type": "code",
      "execution_count": null,
      "metadata": {
        "id": "903vWicbvXOa"
      },
      "outputs": [],
      "source": [
        "def pageProperties(fecha, ejercicio, reps, peso='', nota=''):\n",
        "    musculo = selectMuscle(ejercicio)\n",
        "\n",
        "    \n",
        "    templateJSON = {\"Ejercicio\": {\n",
        "            \"id\": \"title\",\n",
        "            \"title\": [\n",
        "                {\n",
        "                    \"text\": {\n",
        "                        \"content\": ejercicio,\n",
        "                    },\n",
        "                }\n",
        "            ],\n",
        "        },\n",
        "        \"Fecha\": {\n",
        "            \"date\": {\n",
        "                \"start\": fecha,\n",
        "            },\n",
        "        },\n",
        "        \"M\\u00fasculo\": {\n",
        "            \"multi_select\": [\n",
        "                {\n",
        "                    \"name\": musculo\n",
        "                }\n",
        "            ],\n",
        "        },\n",
        "        \"Nota\": {\n",
        "            \"rich_text\": [\n",
        "                {\n",
        "                    \"text\": {\n",
        "                        \"content\": nota\n",
        "                    }\n",
        "                }\n",
        "            ],\n",
        "        },\n",
        "        \"Peso\": {\n",
        "            \"rich_text\": [\n",
        "                {\n",
        "                    \"text\": {\n",
        "                        \"content\": peso\n",
        "                    }\n",
        "                }\n",
        "            ],\n",
        "        },\n",
        "        \"Reps x sets\": {\n",
        "            \"rich_text\": [\n",
        "                {\n",
        "                    \"text\": {\n",
        "                        \"content\": reps,\n",
        "                    },\n",
        "                }\n",
        "            ],\n",
        "        }}\n",
        "\n",
        "    return templateJSON"
      ]
    },
    {
      "cell_type": "code",
      "execution_count": null,
      "metadata": {
        "id": "ODNQ6DiRHOER"
      },
      "outputs": [],
      "source": [
        "def getText(filename):\n",
        "    doc = docx.Document(filename)\n",
        "    fullText = []\n",
        "    for para in doc.paragraphs:\n",
        "        fullText.append(para.text)\n",
        "    return '\\n'.join(fullText)"
      ]
    },
    {
      "cell_type": "code",
      "execution_count": null,
      "metadata": {
        "id": "WUokjtaQBniQ"
      },
      "outputs": [],
      "source": [
        "def getData(ruta):\n",
        "    text = getText(ruta)\n",
        "\n",
        "    lines = text.splitlines()\n",
        "\n",
        "    dia, mes = lines[0].split('/')\n",
        "    fecha = '2022-' + mes + '-' + dia + ', '\n",
        "    #print(fecha)\n",
        "\n",
        "    pagesProps = lines[2:]\n",
        "\n",
        "    pagesProps = list(map(lambda elem: fecha + elem, pagesProps))\n",
        "    pagesProps = list(map(lambda elem: elem.split(', '), pagesProps))\n",
        "\n",
        "    #print(text)\n",
        "    #print(pagesProps)\n",
        "    return pagesProps"
      ]
    },
    {
      "cell_type": "code",
      "source": [
        "files.upload()"
      ],
      "metadata": {
        "id": "m3kGC4LaVyqM"
      },
      "execution_count": null,
      "outputs": []
    },
    {
      "cell_type": "code",
      "source": [
        "\n",
        "#for i in range():\n",
        "data = getData(f\"/content/20_10.docx\")\n",
        "\n",
        "for props in data:\n",
        "    newPage(pageProperties(*props))\n",
        "    print()\n",
        "\n",
        "print('-' * 70 + '\\n')\n",
        "\n",
        "\n"
      ],
      "metadata": {
        "id": "5nnwbq4XE7IM"
      },
      "execution_count": null,
      "outputs": []
    }
  ],
  "metadata": {
    "colab": {
      "provenance": [],
      "authorship_tag": "ABX9TyMi799k4m8ZzcN+2au9a/A/",
      "include_colab_link": true
    },
    "kernelspec": {
      "display_name": "Python 3",
      "name": "python3"
    },
    "language_info": {
      "name": "python"
    }
  },
  "nbformat": 4,
  "nbformat_minor": 0
}